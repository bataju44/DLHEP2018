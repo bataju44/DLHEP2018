{
 "cells": [
  {
   "cell_type": "markdown",
   "metadata": {},
   "source": [
    "# Exam 1- Higgs ML Challenge\n",
    "\n",
    "The HiggsML challenge was organized by ATLAS colleagues and ran on Kaggle's platform. The challenge provided a training and test set of Higgs and background events in CSV format. Using this data, participants were tasked with creating a classifier, which they submitted to Kaggle. Kaggle evaluated the classifier against another test set. At the end of the competition, the best performing classifiers were awarded a cash prize.\n",
    "\n",
    "We will run a mini-competition, using the same data, as your first exam. Note that you will not need a Kaggle account, but may wish to get one to get more details.\n",
    "\n",
    "The challenge is described in https://higgsml.lal.in2p3.fr\n",
    "\n",
    "The Kaggle site is https://www.kaggle.com/c/higgs-boson\n",
    "\n",
    "Detail description of the data and challenge: https://higgsml.lal.in2p3.fr/files/2014/04/documentation_v1.8.pdf\n",
    "\n",
    "You are welcome to use Scikit or any other package you like.\n",
    "\n",
    "Please separate different steps into different Jupyter Notebooks. For example:\n",
    "\n",
    "    - Convert CSV to h5 format.\n",
    "    - Load data and plot/compare variables.\n",
    "    - Setup and Train the Classifier. Save the trained classifier (see http://scikit-learn.org/stable/modules/model_persistence.html )\n",
    "    - Evaluate and compare different classifiers using ROC curves and metric defined by competition.\n",
    "\n",
    "A copy of the data CSV files are on the cluster at: /data/afarbin/DLClass/HiggsML\n"
   ]
  },
  {
   "cell_type": "code",
   "execution_count": 60,
   "metadata": {},
   "outputs": [
    {
     "name": "stdout",
     "output_type": "stream",
     "text": [
      "Exam 1.ipynb  test.csv\ttraining.csv\r\n"
     ]
    }
   ],
   "source": [
    "!ls /data/afarbin/DLClass/HiggsML"
   ]
  },
  {
   "cell_type": "markdown",
   "metadata": {},
   "source": [
    "Note that the first line of the file contains the variable names:"
   ]
  },
  {
   "cell_type": "code",
   "execution_count": 61,
   "metadata": {},
   "outputs": [
    {
     "name": "stdout",
     "output_type": "stream",
     "text": [
      "EventId,DER_mass_MMC,DER_mass_transverse_met_lep,DER_mass_vis,DER_pt_h,DER_deltaeta_jet_jet,DER_mass_jet_jet,DER_prodeta_jet_jet,DER_deltar_tau_lep,DER_pt_tot,DER_sum_pt,DER_pt_ratio_lep_tau,DER_met_phi_centrality,DER_lep_eta_centrality,PRI_tau_pt,PRI_tau_eta,PRI_tau_phi,PRI_lep_pt,PRI_lep_eta,PRI_lep_phi,PRI_met,PRI_met_phi,PRI_met_sumet,PRI_jet_num,PRI_jet_leading_pt,PRI_jet_leading_eta,PRI_jet_leading_phi,PRI_jet_subleading_pt,PRI_jet_subleading_eta,PRI_jet_subleading_phi,PRI_jet_all_pt,Weight,Label\r\n",
      "100000,138.47,51.655,97.827,27.98,0.91,124.711,2.666,3.064,41.928,197.76,1.582,1.396,0.2,32.638,1.017,0.381,51.626,2.273,-2.414,16.824,-0.277,258.733,2,67.435,2.15,0.444,46.062,1.24,-2.475,113.497,0.00265331133733,s\r\n"
     ]
    }
   ],
   "source": [
    "!head -2  /data/afarbin/DLClass/HiggsML/training.csv"
   ]
  },
  {
   "cell_type": "markdown",
   "metadata": {},
   "source": [
    "Some basic shell commands may help you. For example here is the number of lines (so N Events + variable names):"
   ]
  },
  {
   "cell_type": "code",
   "execution_count": 62,
   "metadata": {},
   "outputs": [
    {
     "name": "stdout",
     "output_type": "stream",
     "text": [
      "550001 /data/afarbin/DLClass/HiggsML/test.csv\n",
      "250001 /data/afarbin/DLClass/HiggsML/training.csv\n"
     ]
    }
   ],
   "source": [
    "!wc -l /data/afarbin/DLClass/HiggsML/test.csv\n",
    "!wc -l /data/afarbin/DLClass/HiggsML/training.csv"
   ]
  },
  {
   "cell_type": "code",
   "execution_count": 63,
   "metadata": {
    "collapsed": true
   },
   "outputs": [],
   "source": [
    "!tail -250000 /data/afarbin/DLClass/HiggsML/training.csv > mytraining.csv"
   ]
  },
  {
   "cell_type": "code",
   "execution_count": 64,
   "metadata": {},
   "outputs": [
    {
     "name": "stdout",
     "output_type": "stream",
     "text": [
      "100000,138.47,51.655,97.827,27.98,0.91,124.711,2.666,3.064,41.928,197.76,1.582,1.396,0.2,32.638,1.017,0.381,51.626,2.273,-2.414,16.824,-0.277,258.733,2,67.435,2.15,0.444,46.062,1.24,-2.475,113.497,0.00265331133733,s\r\n",
      "100001,160.937,68.768,103.235,48.146,-999.0,-999.0,-999.0,3.473,2.078,125.157,0.879,1.414,-999.0,42.014,2.039,-3.011,36.918,0.501,0.103,44.704,-1.916,164.546,1,46.226,0.725,1.158,-999.0,-999.0,-999.0,46.226,2.23358448717,b\r\n"
     ]
    }
   ],
   "source": [
    "!head -2 mytraining.csv"
   ]
  },
  {
   "cell_type": "code",
   "execution_count": 163,
   "metadata": {
    "collapsed": true
   },
   "outputs": [],
   "source": [
    "temp_Var= \"EventId,DER_mass_MMC,DER_mass_transverse_met_lep,DER_mass_vis,DER_pt_h,DER_deltaeta_jet_jet,DER_mass_jet_jet,DER_prodeta_jet_jet,DER_deltar_tau_lep,DER_pt_tot,DER_sum_pt,DER_pt_ratio_lep_tau,DER_met_phi_centrality,DER_lep_eta_centrality,PRI_tau_pt,PRI_tau_eta,PRI_tau_phi,PRI_lep_pt,PRI_lep_eta,PRI_lep_phi,PRI_met,PRI_met_phi,PRI_met_sumet,PRI_jet_num,PRI_jet_leading_pt,PRI_jet_leading_eta,PRI_jet_leading_phi,PRI_jet_subleading_pt,PRI_jet_subleading_eta,PRI_jet_subleading_phi,PRI_jet_all_pt,Weight,Label\"\n",
    "E_var_names_w_y_i = temp_Var.split(',')\n",
    "var_names_i = E_var_names_w_y_i[1:31]\n",
    "raw_i=var_names_i[:13]\n",
    "der_i=var_names_i[13:30]\n",
    "w_i = E_var_names_w_y_i[31:32]\n",
    "y_i=E_var_names_w_y_i[32:]"
   ]
  },
  {
   "cell_type": "code",
   "execution_count": 164,
   "metadata": {
    "collapsed": true
   },
   "outputs": [],
   "source": [
    "import pandas as pd\n",
    "filename = \"mytraining.csv\"\n",
    "df = pd.read_csv(filename,names=E_var_names_w_y_i)\n"
   ]
  },
  {
   "cell_type": "code",
   "execution_count": 165,
   "metadata": {},
   "outputs": [
    {
     "data": {
      "text/plain": [
       "411691.83592957398"
      ]
     },
     "execution_count": 165,
     "metadata": {},
     "output_type": "execute_result"
    }
   ],
   "source": [
    "import numpy as np\n",
    "total_weight=np.sum(df.Weight)\n",
    "total_weight"
   ]
  },
  {
   "cell_type": "markdown",
   "metadata": {},
   "source": [
    "# Run 1 Removing the missing value\n"
   ]
  },
  {
   "cell_type": "code",
   "execution_count": 166,
   "metadata": {},
   "outputs": [],
   "source": [
    "#removing eventid,and data with -999.000 points nad cahanging s to 1 and b to 0\n",
    "df =df.drop([\"EventId\"],axis=1)\n",
    "df = df[df.DER_deltaeta_jet_jet != -999.000]\n",
    "df = df[df.DER_mass_MMC != -999.000]\n",
    "df.Label.replace(to_replace=dict(b=0,s=1),inplace=True)"
   ]
  },
  {
   "cell_type": "code",
   "execution_count": 167,
   "metadata": {},
   "outputs": [
    {
     "name": "stdout",
     "output_type": "stream",
     "text": [
      "min. values\n",
      "DER_mass_MMC                     9.878000\n",
      "DER_mass_transverse_met_lep      0.000000\n",
      "DER_mass_vis                     7.330000\n",
      "DER_pt_h                         0.120000\n",
      "DER_deltaeta_jet_jet             0.000000\n",
      "DER_mass_jet_jet                13.602000\n",
      "DER_prodeta_jet_jet            -18.066000\n",
      "DER_deltar_tau_lep               0.228000\n",
      "DER_pt_tot                       0.004000\n",
      "DER_sum_pt                     110.601000\n",
      "DER_pt_ratio_lep_tau             0.047000\n",
      "DER_met_phi_centrality          -1.414000\n",
      "DER_lep_eta_centrality           0.000000\n",
      "PRI_tau_pt                      20.000000\n",
      "PRI_tau_eta                     -2.496000\n",
      "PRI_tau_phi                     -3.141000\n",
      "PRI_lep_pt                      26.001000\n",
      "PRI_lep_eta                     -2.487000\n",
      "PRI_lep_phi                     -3.142000\n",
      "PRI_met                          0.200000\n",
      "PRI_met_phi                     -3.142000\n",
      "PRI_met_sumet                   34.323000\n",
      "PRI_jet_num                      2.000000\n",
      "PRI_jet_leading_pt              30.196000\n",
      "PRI_jet_leading_eta             -4.497000\n",
      "PRI_jet_leading_phi             -3.142000\n",
      "PRI_jet_subleading_pt           30.000000\n",
      "PRI_jet_subleading_eta          -4.500000\n",
      "PRI_jet_subleading_phi          -3.142000\n",
      "PRI_jet_all_pt                  60.223000\n",
      "Weight                           0.001502\n",
      "Label                            0.000000\n",
      "dtype: float64\n"
     ]
    }
   ],
   "source": [
    "print \"min. values\"\n",
    "print df.min()\n"
   ]
  },
  {
   "cell_type": "code",
   "execution_count": 168,
   "metadata": {
    "collapsed": true
   },
   "outputs": [],
   "source": [
    "from sklearn import preprocessing\n"
   ]
  },
  {
   "cell_type": "code",
   "execution_count": 169,
   "metadata": {
    "collapsed": true
   },
   "outputs": [],
   "source": [
    "import numpy as np\n",
    "import matplotlib.pyplot as plt\n",
    "%matplotlib inline"
   ]
  },
  {
   "cell_type": "code",
   "execution_count": 170,
   "metadata": {
    "collapsed": true
   },
   "outputs": [],
   "source": [
    "sig_only = df[df.Label==1]\n",
    "bkg_only = df[df.Label==0]\n",
    "sig_weight=sig_only[\"Weight\"]\n",
    "bkg_weight= bkg_only[\"Weight\"]\n"
   ]
  },
  {
   "cell_type": "code",
   "execution_count": 171,
   "metadata": {
    "collapsed": true
   },
   "outputs": [],
   "source": [
    "#defining the input feature(X),weight and the output Y\n",
    "feature = df.drop([\"Weight\",\"Label\"],axis=1)\n",
    "Y=df.loc[:,\"Label\":]\n",
    "weight=df.loc[:,\"Weight\"]\n"
   ]
  },
  {
   "cell_type": "code",
   "execution_count": 172,
   "metadata": {
    "collapsed": true
   },
   "outputs": [],
   "source": [
    "n_train=61330\n",
    "\n",
    "train_sample=df[:n_train]\n",
    "test_sample=df[n_train:]\n",
    "\n",
    "train_weight=np.array(weight[:n_train])\n",
    "test_weight= np.array(weight[n_train:])\n",
    "\n",
    "X_Train = train_sample[var_names_i[:30]]\n",
    "y_Train = train_sample[\"Label\"]\n",
    "\n",
    "X_Test = test_sample[var_names_i[:30]]\n",
    "y_Test = test_sample[\"Label\"]\n",
    "\n",
    "Test_sig=test_sample[test_sample.Label==1]\n",
    "Test_bkg=test_sample[test_sample.Label==0]\n",
    "\n",
    "\n",
    "#y_sample =(Y.values>\"b\")\n",
    "#y_train=np.array(y_sample[:n_train],dtype=\"int\")\n",
    "#y_train=np.reshape(y_train,(5120,))\n",
    "\n",
    "#y_test=np.array(y_sample[n_train:],dtype=\"int\")\n",
    "#y_test=np.reshape(y_test,(1707,))\n",
    "\n"
   ]
  },
  {
   "cell_type": "code",
   "execution_count": 173,
   "metadata": {},
   "outputs": [
    {
     "data": {
      "text/plain": [
       "30364.374733890625"
      ]
     },
     "execution_count": 173,
     "metadata": {},
     "output_type": "execute_result"
    }
   ],
   "source": [
    "srinken_weight = np.sum(train_weight)+np.sum(test_weight)\n",
    "srinken_weight"
   ]
  },
  {
   "cell_type": "code",
   "execution_count": 174,
   "metadata": {
    "collapsed": true
   },
   "outputs": [],
   "source": [
    "def ams(s,b):\n",
    "   \n",
    "    return np.sqrt (2.*( (s + b + 10.)*np.log(1.+s/(b+10.))-s))"
   ]
  },
  {
   "cell_type": "markdown",
   "metadata": {},
   "source": [
    "# Using DecisionTreeClassifier"
   ]
  },
  {
   "cell_type": "code",
   "execution_count": 175,
   "metadata": {
    "collapsed": true
   },
   "outputs": [],
   "source": [
    "from sklearn import tree\n",
    "from sklearn.metrics import accuracy_score\n",
    "clt = tree.DecisionTreeClassifier(max_depth=5,min_samples_split=100,min_samples_leaf=250,criterion=\"gini\")"
   ]
  },
  {
   "cell_type": "code",
   "execution_count": 176,
   "metadata": {
    "collapsed": true
   },
   "outputs": [],
   "source": [
    "clt = clt.fit(X_Train,y_Train)"
   ]
  },
  {
   "cell_type": "code",
   "execution_count": 177,
   "metadata": {
    "collapsed": true
   },
   "outputs": [],
   "source": [
    "clt_test = clt.predict(X_Test)"
   ]
  },
  {
   "cell_type": "code",
   "execution_count": 178,
   "metadata": {},
   "outputs": [
    {
     "data": {
      "text/plain": [
       "0.80542452830188682"
      ]
     },
     "execution_count": 178,
     "metadata": {},
     "output_type": "execute_result"
    }
   ],
   "source": [
    "accuracy_score(clt_test,y_Test)"
   ]
  },
  {
   "cell_type": "code",
   "execution_count": 179,
   "metadata": {
    "collapsed": true
   },
   "outputs": [],
   "source": [
    "tpr_w = test_weight*(y_Test==1)\n",
    "s=np.sum(tpr_w*(clt_test==1))\n",
    "\n",
    "fpr_w = test_weight*(y_Test==1)\n",
    "b=np.sum(fpr_w*(clt_test==0))"
   ]
  },
  {
   "cell_type": "markdown",
   "metadata": {},
   "source": [
    "The AMS VALUE\n"
   ]
  },
  {
   "cell_type": "code",
   "execution_count": 180,
   "metadata": {},
   "outputs": [
    {
     "data": {
      "text/plain": [
       "2.0912368499277667"
      ]
     },
     "execution_count": 180,
     "metadata": {},
     "output_type": "execute_result"
    }
   ],
   "source": [
    "a = ams(s,b)\n",
    "a"
   ]
  },
  {
   "cell_type": "markdown",
   "metadata": {},
   "source": [
    "# Using RidgeClassifier"
   ]
  },
  {
   "cell_type": "code",
   "execution_count": 181,
   "metadata": {
    "collapsed": true
   },
   "outputs": [],
   "source": [
    "from sklearn import linear_model\n",
    "reg = linear_model.RidgeClassifier(alpha=0.01)\n"
   ]
  },
  {
   "cell_type": "code",
   "execution_count": 182,
   "metadata": {},
   "outputs": [
    {
     "data": {
      "text/plain": [
       "RidgeClassifier(alpha=0.01, class_weight=None, copy_X=True,\n",
       "        fit_intercept=True, max_iter=None, normalize=False,\n",
       "        random_state=None, solver='auto', tol=0.001)"
      ]
     },
     "execution_count": 182,
     "metadata": {},
     "output_type": "execute_result"
    }
   ],
   "source": [
    "reg.fit(X_Train,y_Train)"
   ]
  },
  {
   "cell_type": "code",
   "execution_count": 183,
   "metadata": {},
   "outputs": [
    {
     "data": {
      "text/plain": [
       "0.72729952830188682"
      ]
     },
     "execution_count": 183,
     "metadata": {},
     "output_type": "execute_result"
    }
   ],
   "source": [
    "reg_test = reg.predict(X_Test)\n",
    "accuracy_score(reg_test,y_Test)\n"
   ]
  },
  {
   "cell_type": "code",
   "execution_count": 184,
   "metadata": {},
   "outputs": [],
   "source": [
    "\n",
    "tpr_w_r = test_weight*(y_Test==1.0)\n",
    "s = np.sum(tpr_w_r*(reg_test==1.0))\n",
    "\n",
    "\n",
    "fpr_w_r = test_weight*(y_Test==1.0)\n",
    "b = np.sum(fpr_w_r*(reg_test==0.0))"
   ]
  },
  {
   "cell_type": "markdown",
   "metadata": {},
   "source": [
    "THE AMS VALUE"
   ]
  },
  {
   "cell_type": "code",
   "execution_count": 185,
   "metadata": {},
   "outputs": [
    {
     "data": {
      "text/plain": [
       "1.5104862843612077"
      ]
     },
     "execution_count": 185,
     "metadata": {},
     "output_type": "execute_result"
    }
   ],
   "source": [
    "b =ams(s,b)\n",
    "b"
   ]
  },
  {
   "cell_type": "code",
   "execution_count": 187,
   "metadata": {},
   "outputs": [
    {
     "data": {
      "image/png": "[encoded data removed]",
      "text/plain": [
       "<matplotlib.figure.Figure at 0x7f9afaebb6d0>"
      ]
     },
     "metadata": {},
     "output_type": "display_data"
    },
    {
     "data": {
      "image/png": "[encoded data removed]",
      "text/plain": [
       "<matplotlib.figure.Figure at 0x7f9bac2168d0>"
      ]
     },
     "metadata": {},
     "output_type": "display_data"
    }
   ],
   "source": [
    "s,s_b,_=plt.hist(reg.decision_function(Test_sig.iloc[:,:30]),bins=100,histtype=\"step\", color=\"blue\", label=\"signal\",cumulative=-1,stacked=True,normed=True)\n",
    "b,b_s,_=plt.hist(reg.decision_function(Test_bkg.iloc[:,:30]),bins=100,histtype=\"step\", color=\"red\", label=\"bkg\",cumulative=-1,stacked=True,normed=True)\n",
    "plt.legend(loc=\"upper right\")\n",
    "plt.show()\n",
    "plt.plot(s_b[:-1],s)\n",
    "plt.plot(b_s[:-1],b)\n",
    "plt.show()"
   ]
  },
  {
   "cell_type": "markdown",
   "metadata": {},
   "source": [
    "Lasso"
   ]
  },
  {
   "cell_type": "code",
   "execution_count": 406,
   "metadata": {
    "collapsed": true
   },
   "outputs": [],
   "source": [
    "from sklearn import linear_model\n",
    "lasso = linear_model.Lasso()"
   ]
  },
  {
   "cell_type": "code",
   "execution_count": 407,
   "metadata": {},
   "outputs": [
    {
     "data": {
      "text/plain": [
       "Lasso(alpha=1.0, copy_X=True, fit_intercept=True, max_iter=1000,\n",
       "   normalize=False, positive=False, precompute=False, random_state=None,\n",
       "   selection='cyclic', tol=0.0001, warm_start=False)"
      ]
     },
     "execution_count": 407,
     "metadata": {},
     "output_type": "execute_result"
    }
   ],
   "source": [
    "lasso.fit(X_Train,y_Train)"
   ]
  },
  {
   "cell_type": "code",
   "execution_count": 408,
   "metadata": {
    "collapsed": true
   },
   "outputs": [],
   "source": [
    "lasso_test = lasso.predict(X_Test)\n",
    "lasso_test = np.array(lasso_test>0.5,dtype='int')"
   ]
  },
  {
   "cell_type": "code",
   "execution_count": 409,
   "metadata": {},
   "outputs": [
    {
     "data": {
      "text/plain": [
       "0.69015330188679247"
      ]
     },
     "execution_count": 409,
     "metadata": {},
     "output_type": "execute_result"
    }
   ],
   "source": [
    "accuracy_score(lasso_test,y_Test)"
   ]
  },
  {
   "cell_type": "code",
   "execution_count": 410,
   "metadata": {
    "collapsed": true
   },
   "outputs": [],
   "source": [
    "tpr_w_lasso = test_weight*(y_Test==1.0)\n",
    "s = sum(tpr_w_lasso*(lasso_test==1.0))\n",
    "\n",
    "\n",
    "fpr_w_lasso = test_weight*(y_Test==1.0)\n",
    "b = sum(fpr_w_lasso*(lasso_test==0.0))"
   ]
  },
  {
   "cell_type": "markdown",
   "metadata": {},
   "source": [
    "THE AMS VALUE"
   ]
  },
  {
   "cell_type": "code",
   "execution_count": 412,
   "metadata": {},
   "outputs": [
    {
     "data": {
      "text/plain": [
       "0.93613084820957049"
      ]
     },
     "execution_count": 412,
     "metadata": {},
     "output_type": "execute_result"
    }
   ],
   "source": [
    "c =ams(s,b)\n",
    "c"
   ]
  },
  {
   "cell_type": "markdown",
   "metadata": {},
   "source": [
    "# Run 2 Keeping the missing value and using RobustScale to deal with those"
   ]
  },
  {
   "cell_type": "code",
   "execution_count": 140,
   "metadata": {
    "collapsed": true
   },
   "outputs": [],
   "source": [
    "import pandas as pd\n",
    "filename = \"mytraining.csv\"\n",
    "df_1 = pd.read_csv(filename,names=E_var_names_w_y_i)\n",
    "df_1 =df_1.drop([\"EventId\"],axis=1)\n",
    "df_1.Label.replace(to_replace=dict(b=0,s=1),inplace=True)"
   ]
  },
  {
   "cell_type": "code",
   "execution_count": 141,
   "metadata": {},
   "outputs": [
    {
     "data": {
      "text/plain": [
       "RobustScaler(copy=True, quantile_range=(25.0, 75.0), with_centering=False,\n",
       "       with_scaling=True)"
      ]
     },
     "execution_count": 141,
     "metadata": {},
     "output_type": "execute_result"
    }
   ],
   "source": [
    "import numpy as np\n",
    "from sklearn.preprocessing import RobustScaler\n",
    "R = RobustScaler(with_centering=False,)\n",
    "R.fit(df)\n",
    "\n"
   ]
  },
  {
   "cell_type": "code",
   "execution_count": 142,
   "metadata": {
    "collapsed": true
   },
   "outputs": [],
   "source": [
    "x = R.transform(df_1)"
   ]
  },
  {
   "cell_type": "code",
   "execution_count": 143,
   "metadata": {},
   "outputs": [
    {
     "data": {
      "text/plain": [
       "30    554427.138815\n",
       "dtype: float64"
      ]
     },
     "execution_count": 143,
     "metadata": {},
     "output_type": "execute_result"
    }
   ],
   "source": [
    "data = pd.DataFrame(x)\n",
    "bloted_total_weight = np.sum(data.iloc[:,30:31])\n",
    "bloted_total_weight"
   ]
  },
  {
   "cell_type": "code",
   "execution_count": 144,
   "metadata": {
    "collapsed": true
   },
   "outputs": [],
   "source": [
    "n_train=225000\n",
    "\n",
    "train_sample=data[:n_train]\n",
    "test_sample=data[n_train:]\n",
    "\n",
    "\n",
    "train_weight=np.array(train_sample.iloc[:,30:31])\n",
    "test_weight= np.array(test_sample.iloc[:,30:31])\n",
    "\n",
    "X_train = np.array(train_sample.iloc[:,0:30])\n",
    "\n",
    "y_train = np.array(train_sample.iloc[:,31:])\n",
    "\n",
    "X_test = np.array(test_sample.iloc[:,0:30])\n",
    "\n",
    "y_test = np.array(test_sample.iloc[:,31:])\n",
    "\n",
    "Test_sig=np.array(X_test == 1,dtype=\"int\")\n",
    "Test_bkg=np.array(X_test == 0,dtype=\"int\")\n",
    "\n"
   ]
  },
  {
   "cell_type": "code",
   "execution_count": 145,
   "metadata": {},
   "outputs": [
    {
     "data": {
      "text/plain": [
       "(225000, 1)"
      ]
     },
     "execution_count": 145,
     "metadata": {},
     "output_type": "execute_result"
    }
   ],
   "source": [
    "np.shape(y_train)"
   ]
  },
  {
   "cell_type": "markdown",
   "metadata": {},
   "source": [
    "Using Deciscion Tree"
   ]
  },
  {
   "cell_type": "code",
   "execution_count": 146,
   "metadata": {},
   "outputs": [
    {
     "data": {
      "text/plain": [
       "DecisionTreeClassifier(class_weight=None, criterion='gini', max_depth=5,\n",
       "            max_features=None, max_leaf_nodes=None,\n",
       "            min_impurity_decrease=0.0, min_impurity_split=None,\n",
       "            min_samples_leaf=250, min_samples_split=100,\n",
       "            min_weight_fraction_leaf=0.0, presort=False, random_state=None,\n",
       "            splitter='best')"
      ]
     },
     "execution_count": 146,
     "metadata": {},
     "output_type": "execute_result"
    }
   ],
   "source": [
    "from sklearn import tree\n",
    "from sklearn.metrics import accuracy_score\n",
    "clt = tree.DecisionTreeClassifier(max_depth=5,min_samples_split=100,min_samples_leaf=250,criterion=\"gini\")\n",
    "clt.fit(X_train,y_train)"
   ]
  },
  {
   "cell_type": "code",
   "execution_count": 147,
   "metadata": {},
   "outputs": [
    {
     "data": {
      "text/plain": [
       "0.80479999999999996"
      ]
     },
     "execution_count": 147,
     "metadata": {},
     "output_type": "execute_result"
    }
   ],
   "source": [
    "clt_test =clt.predict(X_test)\n",
    "accuracy_score(clt_test,y_test)\n"
   ]
  },
  {
   "cell_type": "code",
   "execution_count": 148,
   "metadata": {
    "collapsed": true
   },
   "outputs": [],
   "source": [
    "tpr_w = test_weight*(y_test==1)\n",
    "s=np.sum(tpr_w*(clt_test==1))\n",
    "\n",
    "fpr_w = test_weight*(y_test==1)\n",
    "b=np.sum(fpr_w*(clt_test==0))"
   ]
  },
  {
   "cell_type": "code",
   "execution_count": 149,
   "metadata": {},
   "outputs": [
    {
     "data": {
      "text/plain": [
       "558.44060891959111"
      ]
     },
     "execution_count": 149,
     "metadata": {},
     "output_type": "execute_result"
    }
   ],
   "source": [
    "AMS = ams(s,b)\n",
    "AMS"
   ]
  },
  {
   "cell_type": "markdown",
   "metadata": {},
   "source": [
    "Using RidgeClassifier "
   ]
  },
  {
   "cell_type": "code",
   "execution_count": 153,
   "metadata": {},
   "outputs": [
    {
     "data": {
      "text/plain": [
       "RidgeClassifier(alpha=0.01, class_weight=None, copy_X=True,\n",
       "        fit_intercept=True, max_iter=None, normalize=False,\n",
       "        random_state=None, solver='auto', tol=0.001)"
      ]
     },
     "execution_count": 153,
     "metadata": {},
     "output_type": "execute_result"
    }
   ],
   "source": [
    "from sklearn import linear_model\n",
    "reg = linear_model.RidgeClassifier(alpha=0.01)\n",
    "\n",
    "reg.fit(X_train,y_train.ravel())"
   ]
  },
  {
   "cell_type": "code",
   "execution_count": 154,
   "metadata": {},
   "outputs": [
    {
     "data": {
      "text/plain": [
       "0.74431999999999998"
      ]
     },
     "execution_count": 154,
     "metadata": {},
     "output_type": "execute_result"
    }
   ],
   "source": [
    "reg_test = reg.predict(X_test)\n",
    "accuracy_score(reg_test,y_test)\n"
   ]
  },
  {
   "cell_type": "code",
   "execution_count": 155,
   "metadata": {
    "collapsed": true
   },
   "outputs": [],
   "source": [
    "\n",
    "s_r_l=np.sum(test_weight*(y_test==1)*(reg_test==1))\n",
    "\n"
   ]
  },
  {
   "cell_type": "code",
   "execution_count": 156,
   "metadata": {
    "collapsed": true
   },
   "outputs": [],
   "source": [
    "b_r_l=np.sum(test_weight*(y_test==1)*(reg_test==0))"
   ]
  },
  {
   "cell_type": "code",
   "execution_count": 157,
   "metadata": {
    "collapsed": true
   },
   "outputs": [],
   "source": [
    "P = ams(s_r_l,b_r_l)"
   ]
  },
  {
   "cell_type": "code",
   "execution_count": 158,
   "metadata": {},
   "outputs": [
    {
     "data": {
      "text/plain": [
       "423.39326942376681"
      ]
     },
     "execution_count": 158,
     "metadata": {},
     "output_type": "execute_result"
    }
   ],
   "source": [
    "P"
   ]
  },
  {
   "cell_type": "code",
   "execution_count": 161,
   "metadata": {},
   "outputs": [
    {
     "data": {
      "image/png": "[encoded data removed]",
      "text/plain": [
       "<matplotlib.figure.Figure at 0x7f9bade51f10>"
      ]
     },
     "metadata": {},
     "output_type": "display_data"
    }
   ],
   "source": [
    "s,s_b,_=plt.hist(reg.decision_function(Test_sig),bins=100,histtype=\"step\", color=\"blue\", label=\"signal\",cumulative=-1,stacked=True,normed=True)\n",
    "b,b_s,_=plt.hist(reg.decision_function(Test_bkg),bins=100,histtype=\"step\", color=\"red\", label=\"bkg\",cumulative=-1,stacked=True,normed=True)\n",
    "plt.legend(loc=\"upper right\")\n",
    "plt.show()"
   ]
  },
  {
   "cell_type": "code",
   "execution_count": null,
   "metadata": {
    "collapsed": true
   },
   "outputs": [],
   "source": []
  }
 ],
 "metadata": {
  "kernelspec": {
   "display_name": "Python 2",
   "language": "python",
   "name": "python2"
  },
  "language_info": {
   "codemirror_mode": {
    "name": "ipython",
    "version": 2
   },
   "file_extension": ".py",
   "mimetype": "text/x-python",
   "name": "python",
   "nbconvert_exporter": "python",
   "pygments_lexer": "ipython2",
   "version": "2.7.12"
  }
 },
 "nbformat": 4,
 "nbformat_minor": 2
}
