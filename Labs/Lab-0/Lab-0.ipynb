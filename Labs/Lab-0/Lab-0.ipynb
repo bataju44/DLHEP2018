{
 "cells": [
  {
   "cell_type": "code",
   "execution_count": 1,
   "metadata": {},
   "outputs": [
    {
     "name": "stdout",
     "output_type": "stream",
     "text": [
      "Give me your number: \n",
      "4\n",
      "This is not a prime\n"
     ]
    }
   ],
   "source": [
    "#prime number\n",
    "\n",
    "def _root_():\n",
    "    num=int(input(\"Give me your number: \\n\"))\n",
    "    return [i for i in range(1,num+1) if num % i == 0]\n",
    "\n",
    "def prime():\n",
    "    num=_root_()\n",
    "    if len(num) == 2:\n",
    "        print(\"This is a prime number!!!\")\n",
    "    elif len(num) !=2:\n",
    "        print(\"This is not a prime\")\n",
    "prime() "
   ]
  },
  {
   "cell_type": "code",
   "execution_count": null,
   "metadata": {
    "collapsed": true
   },
   "outputs": [],
   "source": []
  }
 ],
 "metadata": {
  "kernelspec": {
   "display_name": "Python 2",
   "language": "python",
   "name": "python2"
  },
  "language_info": {
   "codemirror_mode": {
    "name": "ipython",
    "version": 2
   },
   "file_extension": ".py",
   "mimetype": "text/x-python",
   "name": "python",
   "nbconvert_exporter": "python",
   "pygments_lexer": "ipython2",
   "version": "2.7.12"
  }
 },
 "nbformat": 4,
 "nbformat_minor": 2
}
