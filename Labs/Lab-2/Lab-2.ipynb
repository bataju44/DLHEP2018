{
 "cells": [
  {
   "cell_type": "markdown",
   "metadata": {},
   "source": [
    "# Lab 2- Numpy\n",
    "\n",
    "Read through the following notebook to get an introduction to numpy: [Numpy Intro](jrjohansson-lectures/Lecture-2-Numpy.ipynb)"
   ]
  },
  {
   "cell_type": "markdown",
   "metadata": {},
   "source": [
    "## Exercise 2.1\n",
    "\n",
    "Let start with some basic reshape manipulations. Consider a classification task. We can imagine the training data X consisting of N examples each with M inputs, so the shape of X is (M,N). We usually express the output of the Neural Network, which for the training sample encodes the true class of each of the M examples in X, in a \"one-hot\" matrix of shape (N,C), where C is the number of classes and each row corresponds to the true class for the corresponding example in X. So for a given row Y[i], all elements are 0 except for the column corresponding to the true class.\n",
    "\n",
    "For example consider a classification task of separating between 4 classes. We'll call them A, B, C, and D.\n"
   ]
  },
  {
   "cell_type": "code",
   "execution_count": 1,
   "metadata": {},
   "outputs": [
    {
     "name": "stdout",
     "output_type": "stream",
     "text": [
      "Shape of Y: (4, 4)\n"
     ]
    }
   ],
   "source": [
    "import numpy as np\n",
    "\n",
    "Y=np.array( [ [0, 1, 0, 0], # Class B\n",
    "              [1, 0, 0, 0], # Class A\n",
    "              [0, 0, 1, 0], # Class C\n",
    "              [0, 0, 0, 1]  # Class D\n",
    "            ])\n",
    "\n",
    "print \"Shape of Y:\", Y.shape"
   ]
  },
  {
   "cell_type": "markdown",
   "metadata": {},
   "source": [
    "Lets imagine that we want to change to a 2 classes instead by combining classes A with B and C with D. Use np.reshape and np.sum to create a new vector Y1. Hint: change the shape of Y into (8,2), sum along the correct axes, and change shape to (4,2)."
   ]
  },
  {
   "cell_type": "code",
   "execution_count": 2,
   "metadata": {},
   "outputs": [
    {
     "name": "stdout",
     "output_type": "stream",
     "text": [
      "[[1 0]\n",
      " [1 0]\n",
      " [0 1]\n",
      " [0 1]]\n"
     ]
    }
   ],
   "source": [
    "Y1 = Y\n",
    "\n",
    "Y2 = np.reshape(Y1,(8,2))\n",
    "Y3 = np.sum(Y2,axis=1)\n",
    "Y4 = np.reshape(Y3,(4,2))\n",
    "print Y4\n",
    "\n",
    "\n"
   ]
  },
  {
   "cell_type": "markdown",
   "metadata": {},
   "source": [
    "## Exercise 2.2\n",
    "\n",
    "Oftentimes we find that neutral networks work best when their input is mostly between 0,1. Below, we create a random dataset that is normal distributed (mean of 4, sigma of 10). Shift the data so that the mean is 0.5 and 68% of the data lies between 0 and 1."
   ]
  },
  {
   "cell_type": "code",
   "execution_count": 3,
   "metadata": {},
   "outputs": [
    {
     "name": "stdout",
     "output_type": "stream",
     "text": [
      "399.818263591\n",
      "372.537493718\n",
      "429.240466759\n",
      "9.84345822824\n"
     ]
    },
    {
     "data": {
      "image/png": "[encoded data removed]",
      "text/plain": [
       "<matplotlib.figure.Figure at 0x7fd76861cf50>"
      ]
     },
     "metadata": {},
     "output_type": "display_data"
    }
   ],
   "source": [
    "X=np.random.normal(400,10,500)\n",
    "print np.mean(X)\n",
    "print np.min(X)\n",
    "print np.max(X)\n",
    "print np.std(X)\n",
    "\n",
    "import matplotlib.pyplot as plt\n",
    "plt.hist(X, bins='auto')  # arguments are passed to np.histogram\n",
    "plt.title(\"Histogram with 'auto' bins\")\n",
    "plt.show()\n"
   ]
  },
  {
   "cell_type": "code",
   "execution_count": 4,
   "metadata": {},
   "outputs": [
    {
     "name": "stdout",
     "output_type": "stream",
     "text": [
      "0.0507951563776\n",
      "-2.72066678715\n",
      "3.03980597816\n"
     ]
    },
    {
     "data": {
      "image/png": "[encoded data removed]",
      "text/plain": [
       "<matplotlib.figure.Figure at 0x7fd6d1629ed0>"
      ]
     },
     "metadata": {},
     "output_type": "display_data"
    }
   ],
   "source": [
    "\n",
    "X1=[] # Replace X with your answer\n",
    "\n",
    "for i,v in enumerate(X):\n",
    "    X1.append ((v-np.mean(X)+0.5)/np.std(X)) \n",
    "\n",
    "np.array(X1)\n",
    "\n",
    "print np.mean(X1)\n",
    "print np.min(X1)\n",
    "print np.max(X1)\n",
    "\n",
    "\n",
    "plt.hist(X1, bins='auto')  # arguments are passed to np.histogram\n",
    "plt.title(\"Histogram with 'auto' bins\")\n",
    "plt.show()\n"
   ]
  },
  {
   "cell_type": "markdown",
   "metadata": {},
   "source": [
    "## Exercise 2.3\n",
    "\n",
    "Using np.random.random and np.random.normal to generate two datasets. Then use np.where to repeat exercise 1.4 showing that one creates a flat distribution and the other does not. "
   ]
  },
  {
   "cell_type": "code",
   "execution_count": 5,
   "metadata": {},
   "outputs": [
    {
     "name": "stdout",
     "output_type": "stream",
     "text": [
      "For the normal dist., the percentage of dataset between 0.0 and -0.1 is 0%\n",
      "For the normal dist., the percentage of dataset between 0.1 and 0.0 is 0%\n",
      "For the normal dist., the percentage of dataset between 0.2 and 0.1 is 0%\n",
      "For the normal dist., the percentage of dataset between 0.3 and 0.2 is 4%\n",
      "For the normal dist., the percentage of dataset between 0.4 and 0.3 is 16%\n",
      "For the normal dist., the percentage of dataset between 0.5 and 0.4 is 26%\n",
      "For the normal dist., the percentage of dataset between 0.6 and 0.5 is 31%\n",
      "For the normal dist., the percentage of dataset between 0.7 and 0.6 is 15%\n",
      "For the normal dist., the percentage of dataset between 0.8 and 0.7 is 3%\n",
      "For the normal dist., the percentage of dataset between 0.9 and 0.8 is 0%\n",
      "----------------------------------------------------------------------------------\n",
      "For the random dist., the percentage of dataset between 0.0 and -0.1 is 0%\n",
      "For the random dist., the percentage of dataset between 0.1 and 0.0 is 11%\n",
      "For the random dist., the percentage of dataset between 0.2 and 0.1 is 8%\n",
      "For the random dist., the percentage of dataset between 0.3 and 0.2 is 9%\n",
      "For the random dist., the percentage of dataset between 0.4 and 0.3 is 10%\n",
      "For the random dist., the percentage of dataset between 0.5 and 0.4 is 9%\n",
      "For the random dist., the percentage of dataset between 0.6 and 0.5 is 11%\n",
      "For the random dist., the percentage of dataset between 0.7 and 0.6 is 11%\n",
      "For the random dist., the percentage of dataset between 0.8 and 0.7 is 7%\n",
      "For the random dist., the percentage of dataset between 0.9 and 0.8 is 10%\n"
     ]
    }
   ],
   "source": [
    "import numpy as np\n",
    "\n",
    "\n",
    "#findper gives us the percentage of data point between than two given numbers x and y. \n",
    "def findper(n,x,y,N):\n",
    "    i= (np.where(n<y))\n",
    "    p = (np.where(n<x))\n",
    "    return abs((np.size(i)-np.size(p)) *100/N) \n",
    "\n",
    "#generating the datasets between 0 and 1 \n",
    "normal = np.random.normal(0.5,0.125,1000) # sigma of 0.125 means most datapoints are between 0 and 1\n",
    "flat = np.random.random(1000)\n",
    "\n",
    " \n",
    "def printfun():\n",
    "    for i in range(10):\n",
    "        n=[0.1*x for x in range(10)]\n",
    "        p=[0.1*x -0.1 for x in range(10)]\n",
    "        print\"For the normal dist., the percentage of dataset between {} and {} is {}%\".format(n[i],p[i],findper(normal,p[i],n[i],1000))\n",
    "    print('----------------------------------------------------------------------------------')  \n",
    "    for i in range(10):\n",
    "        n=[0.1*x for x in range(10)]\n",
    "        p=[0.1*x -0.1 for x in range(10)]\n",
    "        print\"For the random dist., the percentage of dataset between {} and {} is {}%\".format(n[i],p[i],findper(flat,p[i],n[i],1000))    \n",
    "\n",
    "\n",
    "printfun()\n"
   ]
  },
  {
   "cell_type": "markdown",
   "metadata": {},
   "source": [
    "## Exercise 2.4\n",
    "\n",
    "Now lets play with some real data. We will load a file of example Neutrino interactions in LArTPC detector. There are 2 read out planes in the detector with 240 wires each, sampled 4096 times. Shift the images in the same way as exercise 2.2."
   ]
  },
  {
   "cell_type": "code",
   "execution_count": 6,
   "metadata": {},
   "outputs": [
    {
     "name": "stdout",
     "output_type": "stream",
     "text": [
      "[u'Eng', u'Track_length', u'enu_truth', u'features', u'lep_mom_truth', u'mode_truth', u'pdg']\n",
      "(2500, 2, 240, 4096)\n",
      "4915200000\n",
      "(2500, 2, 240, 256)\n"
     ]
    }
   ],
   "source": [
    "import h5py\n",
    "f=h5py.File(\"/data/LArIAT/h5_files/nue_CC_3-1469384613.h5\",\"r\")\n",
    "print f.keys()\n",
    "\n",
    "images=f[\"features\"]\n",
    "print images.shape\n",
    "print images.size\n",
    "\n",
    "\n",
    "#downsample 4096 to 256 buy taking every 16th readout \n",
    "new_image = images[::,::,::,::16]\n",
    "print new_image.shape\n",
    "print new_image.size\n",
    "\n"
   ]
  },
  {
   "cell_type": "code",
   "execution_count": 7,
   "metadata": {
    "collapsed": true
   },
   "outputs": [],
   "source": [
    "mean_ = np.mean(new_image)\n",
    "min_ = np.min(new_image)\n",
    "max_ = np.max(new_image)"
   ]
  },
  {
   "cell_type": "code",
   "execution_count": 44,
   "metadata": {},
   "outputs": [
    {
     "name": "stdout",
     "output_type": "stream",
     "text": [
      "1.1055\n",
      "-1338.0\n",
      "3696.0\n"
     ]
    }
   ],
   "source": [
    "print mean_\n",
    "print min_\n",
    "print max_"
   ]
  },
  {
   "cell_type": "code",
   "execution_count": 45,
   "metadata": {},
   "outputs": [
    {
     "name": "stdout",
     "output_type": "stream",
     "text": [
      "(2500, 2, 240, 256)\n",
      "[[[[-0.0002197 -0.0002197 -0.0002197 ..., -0.0002197 -0.0002197 -0.0002197]\n",
      "   [-0.0002197 -0.0002197 -0.0002197 ..., -0.0002197 -0.0002197 -0.0002197]\n",
      "   [-0.0002197 -0.0002197 -0.0002197 ..., -0.0002197 -0.0002197 -0.0002197]\n",
      "   ..., \n",
      "   [-0.0002197 -0.0002197 -0.0002197 ..., -0.0002197 -0.0002197 -0.0002197]\n",
      "   [-0.0002197 -0.0002197 -0.0002197 ..., -0.0002197 -0.0002197 -0.0002197]\n",
      "   [-0.0002197 -0.0002197 -0.0002197 ..., -0.0002197 -0.0002197 -0.0002197]]\n",
      "\n",
      "  [[-0.0002197 -0.0002197 -0.0002197 ..., -0.0002197 -0.0002197 -0.0002197]\n",
      "   [-0.0002197 -0.0002197 -0.0002197 ..., -0.0002197 -0.0002197 -0.0002197]\n",
      "   [-0.0002197 -0.0002197 -0.0002197 ..., -0.0002197 -0.0002197 -0.0002197]\n",
      "   ..., \n",
      "   [-0.0002197 -0.0002197 -0.0002197 ..., -0.0002197 -0.0002197 -0.0002197]\n",
      "   [-0.0002197 -0.0002197 -0.0002197 ..., -0.0002197 -0.0002197 -0.0002197]\n",
      "   [-0.0002197 -0.0002197 -0.0002197 ..., -0.0002197 -0.0002197 -0.0002197]]]\n",
      "\n",
      "\n",
      " [[[-0.0002197 -0.0002197 -0.0002197 ..., -0.0002197 -0.0002197 -0.0002197]\n",
      "   [-0.0002197 -0.0002197 -0.0002197 ..., -0.0002197 -0.0002197 -0.0002197]\n",
      "   [-0.0002197 -0.0002197 -0.0002197 ..., -0.0002197 -0.0002197 -0.0002197]\n",
      "   ..., \n",
      "   [-0.0002197 -0.0002197 -0.0002197 ..., -0.0002197 -0.0002197 -0.0002197]\n",
      "   [-0.0002197 -0.0002197 -0.0002197 ..., -0.0002197 -0.0002197 -0.0002197]\n",
      "   [-0.0002197 -0.0002197 -0.0002197 ..., -0.0002197 -0.0002197 -0.0002197]]\n",
      "\n",
      "  [[-0.0002197 -0.0002197 -0.0002197 ..., -0.0002197 -0.0002197 -0.0002197]\n",
      "   [-0.0002197 -0.0002197 -0.0002197 ..., -0.0002197 -0.0002197 -0.0002197]\n",
      "   [-0.0002197 -0.0002197 -0.0002197 ..., -0.0002197 -0.0002197 -0.0002197]\n",
      "   ..., \n",
      "   [-0.0002197 -0.0002197 -0.0002197 ..., -0.0002197 -0.0002197 -0.0002197]\n",
      "   [-0.0002197 -0.0002197 -0.0002197 ..., -0.0002197 -0.0002197 -0.0002197]\n",
      "   [-0.0002197 -0.0002197 -0.0002197 ..., -0.0002197 -0.0002197 -0.0002197]]]\n",
      "\n",
      "\n",
      " [[[-0.0002197 -0.0002197 -0.0002197 ..., -0.0002197 -0.0002197 -0.0002197]\n",
      "   [-0.0002197 -0.0002197 -0.0002197 ..., -0.0002197 -0.0002197 -0.0002197]\n",
      "   [-0.0002197 -0.0002197 -0.0002197 ..., -0.0002197 -0.0002197 -0.0002197]\n",
      "   ..., \n",
      "   [-0.0002197 -0.0002197 -0.0002197 ..., -0.0002197 -0.0002197 -0.0002197]\n",
      "   [-0.0002197 -0.0002197 -0.0002197 ..., -0.0002197 -0.0002197 -0.0002197]\n",
      "   [-0.0002197 -0.0002197 -0.0002197 ..., -0.0002197 -0.0002197 -0.0002197]]\n",
      "\n",
      "  [[-0.0002197 -0.0002197 -0.0002197 ..., -0.0002197 -0.0002197 -0.0002197]\n",
      "   [-0.0002197 -0.0002197 -0.0002197 ..., -0.0002197 -0.0002197 -0.0002197]\n",
      "   [-0.0002197 -0.0002197 -0.0002197 ..., -0.0002197 -0.0002197 -0.0002197]\n",
      "   ..., \n",
      "   [-0.0002197 -0.0002197 -0.0002197 ..., -0.0002197 -0.0002197 -0.0002197]\n",
      "   [-0.0002197 -0.0002197 -0.0002197 ..., -0.0002197 -0.0002197 -0.0002197]\n",
      "   [-0.0002197 -0.0002197 -0.0002197 ..., -0.0002197 -0.0002197 -0.0002197]]]\n",
      "\n",
      "\n",
      " ..., \n",
      " [[[-0.0002197 -0.0002197 -0.0002197 ..., -0.0002197 -0.0002197 -0.0002197]\n",
      "   [-0.0002197 -0.0002197 -0.0002197 ..., -0.0002197 -0.0002197 -0.0002197]\n",
      "   [-0.0002197 -0.0002197 -0.0002197 ..., -0.0002197 -0.0002197 -0.0002197]\n",
      "   ..., \n",
      "   [-0.0002197 -0.0002197 -0.0002197 ..., -0.0002197 -0.0002197 -0.0002197]\n",
      "   [-0.0002197 -0.0002197 -0.0002197 ..., -0.0002197 -0.0002197 -0.0002197]\n",
      "   [-0.0002197 -0.0002197 -0.0002197 ..., -0.0002197 -0.0002197 -0.0002197]]\n",
      "\n",
      "  [[-0.0002197 -0.0002197 -0.0002197 ..., -0.0002197 -0.0002197 -0.0002197]\n",
      "   [-0.0002197 -0.0002197 -0.0002197 ..., -0.0002197 -0.0002197 -0.0002197]\n",
      "   [-0.0002197 -0.0002197 -0.0002197 ..., -0.0002197 -0.0002197 -0.0002197]\n",
      "   ..., \n",
      "   [-0.0002197 -0.0002197 -0.0002197 ..., -0.0002197 -0.0002197 -0.0002197]\n",
      "   [-0.0002197 -0.0002197 -0.0002197 ..., -0.0002197 -0.0002197 -0.0002197]\n",
      "   [-0.0002197 -0.0002197 -0.0002197 ..., -0.0002197 -0.0002197 -0.0002197]]]\n",
      "\n",
      "\n",
      " [[[-0.0002197 -0.0002197 -0.0002197 ..., -0.0002197 -0.0002197 -0.0002197]\n",
      "   [-0.0002197 -0.0002197 -0.0002197 ..., -0.0002197 -0.0002197 -0.0002197]\n",
      "   [-0.0002197 -0.0002197 -0.0002197 ..., -0.0002197 -0.0002197 -0.0002197]\n",
      "   ..., \n",
      "   [-0.0002197 -0.0002197 -0.0002197 ..., -0.0002197 -0.0002197 -0.0002197]\n",
      "   [-0.0002197 -0.0002197 -0.0002197 ..., -0.0002197 -0.0002197 -0.0002197]\n",
      "   [-0.0002197 -0.0002197 -0.0002197 ..., -0.0002197 -0.0002197 -0.0002197]]\n",
      "\n",
      "  [[-0.0002197 -0.0002197 -0.0002197 ..., -0.0002197 -0.0002197 -0.0002197]\n",
      "   [-0.0002197 -0.0002197 -0.0002197 ..., -0.0002197 -0.0002197 -0.0002197]\n",
      "   [-0.0002197 -0.0002197 -0.0002197 ..., -0.0002197 -0.0002197 -0.0002197]\n",
      "   ..., \n",
      "   [-0.0002197 -0.0002197 -0.0002197 ..., -0.0002197 -0.0002197 -0.0002197]\n",
      "   [-0.0002197 -0.0002197 -0.0002197 ..., -0.0002197 -0.0002197 -0.0002197]\n",
      "   [-0.0002197 -0.0002197 -0.0002197 ..., -0.0002197 -0.0002197 -0.0002197]]]\n",
      "\n",
      "\n",
      " [[[-0.0002197 -0.0002197 -0.0002197 ..., -0.0002197 -0.0002197 -0.0002197]\n",
      "   [-0.0002197 -0.0002197 -0.0002197 ..., -0.0002197 -0.0002197 -0.0002197]\n",
      "   [-0.0002197 -0.0002197 -0.0002197 ..., -0.0002197 -0.0002197 -0.0002197]\n",
      "   ..., \n",
      "   [-0.0002197 -0.0002197 -0.0002197 ..., -0.0002197 -0.0002197 -0.0002197]\n",
      "   [-0.0002197 -0.0002197 -0.0002197 ..., -0.0002197 -0.0002197 -0.0002197]\n",
      "   [-0.0002197 -0.0002197 -0.0002197 ..., -0.0002197 -0.0002197 -0.0002197]]\n",
      "\n",
      "  [[-0.0002197 -0.0002197 -0.0002197 ..., -0.0002197 -0.0002197 -0.0002197]\n",
      "   [-0.0002197 -0.0002197 -0.0002197 ..., -0.0002197 -0.0002197 -0.0002197]\n",
      "   [-0.0002197 -0.0002197 -0.0002197 ..., -0.0002197 -0.0002197 -0.0002197]\n",
      "   ..., \n",
      "   [-0.0002197 -0.0002197 -0.0002197 ..., -0.0002197 -0.0002197 -0.0002197]\n",
      "   [-0.0002197 -0.0002197 -0.0002197 ..., -0.0002197 -0.0002197 -0.0002197]\n",
      "   [-0.0002197 -0.0002197 -0.0002197 ..., -0.0002197 -0.0002197 -0.0002197]]]]\n"
     ]
    }
   ],
   "source": [
    "print np.shape(new_image)\n",
    "\n",
    "\n",
    "for x in np.nditer(new_image,op_flags=['readwrite'], flags=['external_loop','buffered']):\n",
    "        x[...]= (x - mean_)/(max_-min_)\n",
    "print new_image"
   ]
  },
  {
   "cell_type": "code",
   "execution_count": null,
   "metadata": {
    "collapsed": true
   },
   "outputs": [],
   "source": []
  }
 ],
 "metadata": {
  "kernelspec": {
   "display_name": "Python 2",
   "language": "python",
   "name": "python2"
  },
  "language_info": {
   "codemirror_mode": {
    "name": "ipython",
    "version": 2
   },
   "file_extension": ".py",
   "mimetype": "text/x-python",
   "name": "python",
   "nbconvert_exporter": "python",
   "pygments_lexer": "ipython2",
   "version": "2.7.12"
  }
 },
 "nbformat": 4,
 "nbformat_minor": 2
}
