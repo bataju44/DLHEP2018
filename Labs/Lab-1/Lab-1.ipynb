{
 "cells": [
  {
   "cell_type": "markdown",
   "metadata": {},
   "source": [
    "## Lab 1- Python\n",
    "\n",
    "Let start with generating some fake random data. You can get a random number between 0 and 1 using the python random module as follow:"
   ]
  },
  {
   "cell_type": "code",
   "execution_count": null,
   "metadata": {
    "collapsed": true
   },
   "outputs": [],
   "source": [
    "import random\n",
    "x=random.random()\n",
    "print \"The Value of x is\", x\n",
    "\n"
   ]
  },
  {
   "cell_type": "markdown",
   "metadata": {},
   "source": [
    "### Exercise 1.1\n",
    "Using random, write a function GenerateData(N, mymin, mymax), that returns a python list containing N random numbers between specified minimum and maximum value. Note that you may want to quickly work out on paper how to turn numbers between 0 and 1 to between other values. "
   ]
  },
  {
   "cell_type": "code",
   "execution_count": 8,
   "metadata": {},
   "outputs": [
    {
     "name": "stdout",
     "output_type": "stream",
     "text": [
      "Data Type: <type 'list'>\n",
      "Data Length: 1000\n",
      "Type of Data Contents: <type 'float'>\n",
      "Data Minimum: -9.98205052848\n",
      "Data Maximum: 9.96047064011\n"
     ]
    }
   ],
   "source": [
    "# Skeleton\n",
    "import random\n",
    "\n",
    "def GenerateData(N,min,max):\n",
    "    out=[]\n",
    "    \n",
    "    while len(out) < N:\n",
    "        out.append(random.random()*(max-min)+min)#transformation for R(0,1) to Y(min,max)\n",
    "        \n",
    "        #out.append(random.uniform(min,max))\n",
    "        \n",
    "    return out\n",
    "    \n",
    "      \n",
    "mymin = -10\n",
    "mymax =10\n",
    "Data=GenerateData(1000,-10,10)\n",
    "\n",
    "print \"Data Type:\", type(Data)\n",
    "print \"Data Length:\", len(Data)\n",
    "\n",
    "if len(Data)>0: \n",
    "    print \"Type of Data Contents:\", type(Data[0])\n",
    "    print \"Data Minimum:\", min(Data)\n",
    "    print \"Data Maximum:\", max(Data)\n",
    "    \n"
   ]
  },
  {
   "cell_type": "markdown",
   "metadata": {},
   "source": [
    "### Exercise 1.2\n",
    "\n",
    "Write a function that computes the mean of values in a list."
   ]
  },
  {
   "cell_type": "code",
   "execution_count": null,
   "metadata": {
    "collapsed": true
   },
   "outputs": [],
   "source": [
    "# Skeleton\n",
    "import math\n",
    "def mean(Data):\n",
    "    m=float(sum(Data))/float(len(Data))\n",
    "\n",
    "    return m\n",
    "\n",
    "print \"Mean of Data:\", mean(Data)"
   ]
  },
  {
   "cell_type": "code",
   "execution_count": null,
   "metadata": {
    "collapsed": true
   },
   "outputs": [],
   "source": [
    "[x for x in range(0,2)]"
   ]
  },
  {
   "cell_type": "markdown",
   "metadata": {},
   "source": [
    "### Exercise 1.3\n",
    "\n",
    "Write a function the applies a booling function (that returns true/false) to every element in data, and return a list of indices of elements where the result was true. Use this function to find the indices of positive entries. "
   ]
  },
  {
   "cell_type": "code",
   "execution_count": 4,
   "metadata": {
    "collapsed": true
   },
   "outputs": [],
   "source": [
    "def where(mylist,myfunc):\n",
    "    out= [i for i,v in enumerate(mylist) if myfunc(v)]\n",
    "    \n",
    "    #in expanded form\n",
    "    #out=[]\n",
    "    #for i,v in enumerate(mylist):\n",
    "     #   if myfunc(v):\n",
    "      #      out.append(i)\n",
    "       \n",
    "    \n",
    "   \n",
    "    return out\n"
   ]
  },
  {
   "cell_type": "markdown",
   "metadata": {},
   "source": [
    "### Exercise 1.4\n",
    "\n",
    "The inrange(mymin,mymax) function below returns a function that tests if it's input is between the specified values. Use this function, in conjunction to your solution to 1.3, to demonstrate that your data is \"flat\". Hint: pick several sub-ranges and show that the number of data point divided by the size of the range is roughly constant. "
   ]
  },
  {
   "cell_type": "code",
   "execution_count": 9,
   "metadata": {},
   "outputs": [
    {
     "name": "stdout",
     "output_type": "stream",
     "text": [
      "False False False False False\n",
      "True False False False False\n",
      "Number of Entries passing F1: 46\n",
      "Number of Entries passing F2: 56\n",
      "Number of Entries passing F2: 49\n"
     ]
    },
    {
     "data": {
      "image/png": "[encoded data removed]",
      "text/plain": [
       "<matplotlib.figure.Figure at 0x7fd5c03d4710>"
      ]
     },
     "metadata": {},
     "output_type": "display_data"
    },
    {
     "name": "stdout",
     "output_type": "stream",
     "text": [
      "47 - 0 =  47\n",
      "39 - 47 =  -8\n",
      "54 - 39 =  15\n",
      "53 - 54 =  -1\n",
      "56 - 53 =  3\n",
      "40 - 56 =  -16\n",
      "50 - 40 =  10\n",
      "52 - 50 =  2\n",
      "40 - 52 =  -12\n",
      "46 - 40 =  6\n",
      "56 - 46 =  10\n",
      "49 - 56 =  -7\n",
      "59 - 49 =  10\n",
      "52 - 59 =  -7\n",
      "47 - 52 =  -5\n",
      "55 - 47 =  8\n",
      "57 - 55 =  2\n",
      "51 - 57 =  -6\n",
      "54 - 51 =  3\n",
      "43 - 54 =  -11\n"
     ]
    }
   ],
   "source": [
    "def inrange(mymin,mymax):\n",
    "    def testrange(x):\n",
    "        return x<mymax and x>=mymin\n",
    "    return testrange\n",
    "\n",
    "# Examples:\n",
    "F1=inrange(-1,0)\n",
    "F2=inrange(0,1)\n",
    "F3=inrange(1,2)\n",
    "\n",
    "print F1(0), F1(1), F1(10), F1(15), F1(20)\n",
    "print F2(0), F2(1), F2(10), F2(15), F2(20)\n",
    "\n",
    "\n",
    "print  \"Number of Entries passing F1:\", len(where(Data,F1))\n",
    "print  \"Number of Entries passing F2:\", len(where(Data,F2))\n",
    "print  \"Number of Entries passing F2:\", len(where(Data,F3))\n",
    "\n",
    "\n",
    "def isflat(Data,mymin,mymax):\n",
    "    for x in range(mymin,mymax):\n",
    "        f=inrange(x,x+1)\n",
    "        g=inrange(x-1,x)\n",
    "        \n",
    "        \n",
    "\n",
    "    return [len(where(Data,f))-len(where(Data,g))]\n",
    "\n",
    "isflat(Data,mymin,mymax)\n",
    "\n",
    "\n",
    "import matplotlib.pyplot as plt\n",
    "plt.hist(Data, bins='auto')  # arguments are passed to np.histogram\n",
    "plt.title(\"Histogram with 'auto' bins\")\n",
    "plt.show()\n",
    "\n",
    "for x in range(mymin,mymax):\n",
    "        f=len(where(Data,inrange(x,x+1)))\n",
    "        g=len(where(Data,inrange(x-1,x)))\n",
    "        print f ,\"-\",g ,\"= \",f-g\n"
   ]
  },
  {
   "cell_type": "markdown",
   "metadata": {},
   "source": [
    "### Exercise 1.5\n",
    "\n",
    "Repeat Exercise 1.5 using the built in python functions sum,filter and map instead of your solution to 1.3. "
   ]
  },
  {
   "cell_type": "code",
   "execution_count": null,
   "metadata": {
    "collapsed": true
   },
   "outputs": [],
   "source": [
    "\n",
    "def where(mylist,myfunc):\n",
    "    \n",
    "    # filtering out False values but doesnot gives the indices for true value, still works \n",
    "    out = filter(lambda x: x ==True,map(myfunc,mylist)) \n",
    "    return out"
   ]
  },
  {
   "cell_type": "markdown",
   "metadata": {},
   "source": [
    "### Exercise 1.6\n",
    "\n",
    "Write a new function called GenerateDataFromFunction(N,mymin,mymax,myfunc), that instead of generating a flat distribution, generates a distribution with functional form coded in myfunc. Note that myfunc will always be > 0.  \n",
    "\n",
    "Use your function to generate 1000 numbers that are Gaussian distributed, using the Gaussian function below. Confirm the mean of the data is close to mean you specify when building the Gaussian. \n",
    "\n",
    "Hint: A simple, but slow, solution is to a draw random number test_x within the specified range and another number p between the min and max of the function (which you will have to determine). If p<=function(test_x), then place test_x on the output. If not, repeat the process, drawing two new numbers. Repeat until you have the specified number of generated numbers, N. For this problem, it's OK to determine the min and max by numerically sampling the function.  \n",
    "\n"
   ]
  },
  {
   "cell_type": "code",
   "execution_count": null,
   "metadata": {
    "collapsed": true
   },
   "outputs": [],
   "source": [
    "import random \n",
    "import math\n",
    "\n",
    "def GenerateDataFromFunction(N,mymin,mymax,myfunc):\n",
    "    out = []\n",
    "    #creating a list with all values of fuction\n",
    "    func_list= map(myfunc,[i for i in range(mymin,mymax)])\n",
    "    \n",
    "    \n",
    "    #find max of function\n",
    "    max_num = 0\n",
    "    min_num = 0\n",
    "    for i,v in enumerate(func_list):\n",
    "        if max_num < v:\n",
    "            max_num = v\n",
    "           \n",
    "    #find min of a function\n",
    "    for i,v in enumerate (func_list):\n",
    "        if min_num > v:\n",
    "            min_num = v\n",
    "    \n",
    "    while len(out)<=N: #should this be len(out)<N ?\n",
    "        \n",
    "        test_x= random.random()*(mymax-mymin)+mymin\n",
    "        p=random.random()*(max_num - min_num) +min_num\n",
    "    \n",
    "        if p <= myfunc(test_x):\n",
    "            out.append(test_x)\n",
    "        \n",
    "    \n",
    "    #len(out)\n",
    "   \n",
    "    \n",
    "    return out\n",
    "\n"
   ]
  },
  {
   "cell_type": "code",
   "execution_count": null,
   "metadata": {
    "collapsed": true
   },
   "outputs": [],
   "source": [
    "import math\n",
    "\n",
    "def gaussian(mean, sigma):\n",
    "    def f(x):\n",
    "        return math.exp(-((x-mean)**2)/(2*sigma**2))/math.sqrt(math.pi*sigma)\n",
    "    return f\n",
    "\n",
    "# Example Instantiation\n",
    "g1=gaussian(0,1)\n",
    "g2=gaussian(10,3)\n",
    "\n",
    "### BEGIN SOLUTION\n",
    "#GenerateDataFromFunction(1000,0,10,g2)\n",
    "Data = GenerateDataFromFunction(1000,-100,100,g1)\n",
    "print mean(Data) # the mean of the data is close to the actually mean that was given\n",
    "    \n",
    "### END SOLUTION\n",
    "import matplotlib.pyplot as plt\n",
    "plt.hist(Data, bins='auto')  # arguments are passed to np.histogram\n",
    "plt.title(\"Histogram with 'auto' bins\")\n",
    "plt.show()\n"
   ]
  },
  {
   "cell_type": "code",
   "execution_count": null,
   "metadata": {
    "collapsed": true
   },
   "outputs": [],
   "source": []
  },
  {
   "cell_type": "code",
   "execution_count": null,
   "metadata": {
    "collapsed": true
   },
   "outputs": [],
   "source": []
  },
  {
   "cell_type": "code",
   "execution_count": null,
   "metadata": {
    "collapsed": true
   },
   "outputs": [],
   "source": []
  }
 ],
 "metadata": {
  "kernelspec": {
   "display_name": "Python 2",
   "language": "python",
   "name": "python2"
  },
  "language_info": {
   "codemirror_mode": {
    "name": "ipython",
    "version": 2
   },
   "file_extension": ".py",
   "mimetype": "text/x-python",
   "name": "python",
   "nbconvert_exporter": "python",
   "pygments_lexer": "ipython2",
   "version": "2.7.12"
  }
 },
 "nbformat": 4,
 "nbformat_minor": 2
}
